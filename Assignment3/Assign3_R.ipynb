{
 "cells": [
  {
   "cell_type": "markdown",
   "metadata": {},
   "source": [
    "#### Using R for Question 3.\n",
    "\n",
    "#### It's worth noting that I export the \"redwine.csv\" file along with final_quality as \"redwine_final.csv\"."
   ]
  },
  {
   "cell_type": "code",
   "execution_count": 11,
   "metadata": {},
   "outputs": [],
   "source": [
    "data <- read.csv(file=\"redwine_final.csv\", header=TRUE, sep=\",\")"
   ]
  },
  {
   "cell_type": "code",
   "execution_count": 12,
   "metadata": {},
   "outputs": [
    {
     "data": {
      "text/plain": [
       "\n",
       "Call:\n",
       "glm(formula = final_quality ~ fixed.acidity + volatile.acidity + \n",
       "    citric.acid + residual.sugar + chlorides + free.sulfur.dioxide + \n",
       "    total.sulfur.dioxide + density + pH + sulphates + alcohol, \n",
       "    family = \"binomial\", data = data)\n",
       "\n",
       "Deviance Residuals: \n",
       "    Min       1Q   Median       3Q      Max  \n",
       "-3.4025  -0.8387   0.3105   0.8300   2.3142  \n",
       "\n",
       "Coefficients:\n",
       "                       Estimate Std. Error z value Pr(>|z|)    \n",
       "(Intercept)           42.949948  79.473979   0.540  0.58890    \n",
       "fixed.acidity          0.135980   0.098483   1.381  0.16736    \n",
       "volatile.acidity      -3.281694   0.488214  -6.722 1.79e-11 ***\n",
       "citric.acid           -1.274347   0.562730  -2.265  0.02354 *  \n",
       "residual.sugar         0.055326   0.053770   1.029  0.30351    \n",
       "chlorides             -3.915713   1.569298  -2.495  0.01259 *  \n",
       "free.sulfur.dioxide    0.022220   0.008236   2.698  0.00698 ** \n",
       "total.sulfur.dioxide  -0.016394   0.002882  -5.688 1.29e-08 ***\n",
       "density              -50.932385  81.148745  -0.628  0.53024    \n",
       "pH                    -0.380608   0.720203  -0.528  0.59717    \n",
       "sulphates              2.795107   0.452184   6.181 6.36e-10 ***\n",
       "alcohol                0.866822   0.104190   8.320  < 2e-16 ***\n",
       "---\n",
       "Signif. codes:  0 '***' 0.001 '**' 0.01 '*' 0.05 '.' 0.1 ' ' 1\n",
       "\n",
       "(Dispersion parameter for binomial family taken to be 1)\n",
       "\n",
       "    Null deviance: 2209.0  on 1598  degrees of freedom\n",
       "Residual deviance: 1655.6  on 1587  degrees of freedom\n",
       "AIC: 1679.6\n",
       "\n",
       "Number of Fisher Scoring iterations: 4\n"
      ]
     },
     "metadata": {},
     "output_type": "display_data"
    }
   ],
   "source": [
    "summary(glm(final_quality~ fixed.acidity+\n",
    "            volatile.acidity+citric.acid+residual.sugar+chlorides+free.sulfur.dioxide+\n",
    "            total.sulfur.dioxide+density+pH+sulphates+alcohol, data=data, family=\"binomial\"))"
   ]
  },
  {
   "cell_type": "code",
   "execution_count": 13,
   "metadata": {},
   "outputs": [],
   "source": [
    "boot_fn <- function(data,index){\n",
    "  coef(glm(final_quality~ fixed.acidity+volatile.acidity+citric.acid+residual.sugar+chlorides+\n",
    "           free.sulfur.dioxide+total.sulfur.dioxide\n",
    "           +density+pH+sulphates+alcohol, data=data, subset=index, family=\"binomial\"))\n",
    "}"
   ]
  },
  {
   "cell_type": "code",
   "execution_count": 14,
   "metadata": {},
   "outputs": [
    {
     "data": {
      "text/plain": [
       "\n",
       "ORDINARY NONPARAMETRIC BOOTSTRAP\n",
       "\n",
       "\n",
       "Call:\n",
       "boot(data = data, statistic = boot_fn, R = 2000)\n",
       "\n",
       "\n",
       "Bootstrap Statistics :\n",
       "         original        bias     std. error\n",
       "t1*   42.94994814  0.0604194301 84.361445587\n",
       "t2*    0.13598034  0.0008560863  0.103288845\n",
       "t3*   -3.28169367 -0.0326483121  0.524983922\n",
       "t4*   -1.27434734 -0.0342722861  0.606408458\n",
       "t5*    0.05532602 -0.0031826996  0.061194012\n",
       "t6*   -3.91571291 -0.0603068539  1.766512411\n",
       "t7*    0.02222037  0.0003511559  0.008272824\n",
       "t8*   -0.01639392 -0.0002477202  0.003129985\n",
       "t9*  -50.93238519 -0.1533201959 86.072700508\n",
       "t10*  -0.38060751 -0.0082250917  0.727773532\n",
       "t11*   2.79510651  0.0758793199  0.533315897\n",
       "t12*   0.86682223  0.0107148741  0.110740333"
      ]
     },
     "metadata": {},
     "output_type": "display_data"
    }
   ],
   "source": [
    "library(boot)\n",
    "boot(data, boot_fn, 2000)"
   ]
  },
  {
   "cell_type": "markdown",
   "metadata": {},
   "source": [
    "### The Standard Errors of all the efficients estimated by the bootstrap function are very close to the Standard Errors obtained using the glm() function. "
   ]
  }
 ],
 "metadata": {
  "kernelspec": {
   "display_name": "R",
   "language": "R",
   "name": "ir"
  },
  "language_info": {
   "codemirror_mode": "r",
   "file_extension": ".r",
   "mimetype": "text/x-r-source",
   "name": "R",
   "pygments_lexer": "r",
   "version": "3.5.1"
  }
 },
 "nbformat": 4,
 "nbformat_minor": 2
}
