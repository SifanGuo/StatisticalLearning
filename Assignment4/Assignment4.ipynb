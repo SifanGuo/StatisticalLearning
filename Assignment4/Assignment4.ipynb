{
 "cells": [
  {
   "cell_type": "markdown",
   "metadata": {
    "collapsed": true
   },
   "source": [
    "# Assignment 4\n",
    "### Question 1\n",
    "#### Read and summarize the subsection on \"Another Formulation for Ridge Regression and the Lasso\" (pp 220-222).\n",
    "\n",
    "<font size=2.5 color=\"red\">Answer: \n",
    "This subsection introduces a new formulation for lasso and ridge regression. Instead of using λ before the penalty terms $ \\sum_{j=1}^p |\\beta_j| $ or $ \\sum_{j=1}^p \\beta_j^2 $, this formulation uses s to minimize the penalty terms such that $ \\sum_{j=1}^p |\\beta_j| \\leq s $ or $ \\sum_{j=1}^p \\beta_j^2 \\leq s $, which tries to find the set of coefficient estimates with the smallest RSS. When s is very large, the coefficient estimates can be large, too. It's basically yielding the least squares solutions. On the other hand, the coefficient estimates would be very small when s is set small. \n",
    "\n",
    "Moreover, the subsection also mentions the connection between the lasso, ridge regression and the best subset selection. Ridge and lasso regression can be regarded as computationally feasible alternatives to best subset selection.\n",
    "\n",
    "Last but not least, \"The Variable Selection Property of the Lasso\" draws two figures showing the difference between lasso and ridge regression, which explains why lasso can result in zero coefficient estimates whereas ridge cannot. It's due to the shape of the constraint regions. The ridge regression has a circular constraint with no sharp points, the intersection with the RSS ellipse will not generally occur on an axis. In contrast, the lasso constraint has corners at each of the axes, and so the ellipse will often intersect the constraint region at an axis. That's how we get a zero coefficient.\n",
    "</font>\n",
    "\n",
    "\n",
    "\n",
    "### Question 2\n",
    "#### In this exercise, we will generate simulated data, then use this data to perform forward feature selection, backward feature selection and lasso.\n",
    "\n",
    "(a) Generate a predictor X of length n = 100, as well as a noise vector ϵ of length n = 100 from a\n",
    "random normal distribution. Then generate a response vector Y of length n = 100 according to the\n",
    "model Y = β0 + β1X + β2X2 + β3X3 + ϵ, where β0, β1, β2, and β3 are constants of your choice. Hint:\n",
    "Look back at Assignment 1."
   ]
  },
  {
   "cell_type": "code",
   "execution_count": 1,
   "metadata": {},
   "outputs": [],
   "source": [
    "import pandas as pd\n",
    "import numpy as np\n",
    "import matplotlib.pyplot as plt"
   ]
  },
  {
   "cell_type": "code",
   "execution_count": 2,
   "metadata": {},
   "outputs": [],
   "source": [
    "np.random.seed(seed=666)\n",
    "\n",
    "\n",
    "X = np.random.normal(0, 1, 100)\n",
    "\n",
    "eps = 0.1 * np.random.normal(0, 0.25, 100)\n",
    "\n",
    "ß0 = 20\n",
    "ß1 = 21\n",
    "ß2 = 22\n",
    "ß3 = 23\n",
    "\n",
    "y = ß0 + ß1*X + ß2*X*X + ß3*X*X*X + eps"
   ]
  },
  {
   "cell_type": "markdown",
   "metadata": {},
   "source": [
    "(b) Using forward stepwise selection and also using backwards stepwise selection to choose the best model containing the predictors X, X2, ... X6. Comment on your results.\n",
    "\n",
    "### First we get the predictors X, X2, ... X6. "
   ]
  },
  {
   "cell_type": "code",
   "execution_count": 3,
   "metadata": {},
   "outputs": [
    {
     "data": {
      "text/html": [
       "<div>\n",
       "<style scoped>\n",
       "    .dataframe tbody tr th:only-of-type {\n",
       "        vertical-align: middle;\n",
       "    }\n",
       "\n",
       "    .dataframe tbody tr th {\n",
       "        vertical-align: top;\n",
       "    }\n",
       "\n",
       "    .dataframe thead th {\n",
       "        text-align: right;\n",
       "    }\n",
       "</style>\n",
       "<table border=\"1\" class=\"dataframe\">\n",
       "  <thead>\n",
       "    <tr style=\"text-align: right;\">\n",
       "      <th></th>\n",
       "      <th>X</th>\n",
       "      <th>X^2</th>\n",
       "      <th>X^3</th>\n",
       "      <th>X^4</th>\n",
       "      <th>X^5</th>\n",
       "      <th>X^6</th>\n",
       "    </tr>\n",
       "  </thead>\n",
       "  <tbody>\n",
       "    <tr>\n",
       "      <th>0</th>\n",
       "      <td>0.824188</td>\n",
       "      <td>0.679286</td>\n",
       "      <td>0.559859</td>\n",
       "      <td>0.461429</td>\n",
       "      <td>0.380305</td>\n",
       "      <td>0.313443</td>\n",
       "    </tr>\n",
       "    <tr>\n",
       "      <th>1</th>\n",
       "      <td>0.479966</td>\n",
       "      <td>0.230367</td>\n",
       "      <td>0.110569</td>\n",
       "      <td>0.053069</td>\n",
       "      <td>0.025471</td>\n",
       "      <td>0.012225</td>\n",
       "    </tr>\n",
       "    <tr>\n",
       "      <th>2</th>\n",
       "      <td>1.173468</td>\n",
       "      <td>1.377027</td>\n",
       "      <td>1.615897</td>\n",
       "      <td>1.896204</td>\n",
       "      <td>2.225135</td>\n",
       "      <td>2.611124</td>\n",
       "    </tr>\n",
       "    <tr>\n",
       "      <th>3</th>\n",
       "      <td>0.909048</td>\n",
       "      <td>0.826368</td>\n",
       "      <td>0.751209</td>\n",
       "      <td>0.682885</td>\n",
       "      <td>0.620775</td>\n",
       "      <td>0.564314</td>\n",
       "    </tr>\n",
       "    <tr>\n",
       "      <th>4</th>\n",
       "      <td>-0.571721</td>\n",
       "      <td>0.326865</td>\n",
       "      <td>-0.186876</td>\n",
       "      <td>0.106841</td>\n",
       "      <td>-0.061083</td>\n",
       "      <td>0.034923</td>\n",
       "    </tr>\n",
       "  </tbody>\n",
       "</table>\n",
       "</div>"
      ],
      "text/plain": [
       "          X       X^2       X^3       X^4       X^5       X^6\n",
       "0  0.824188  0.679286  0.559859  0.461429  0.380305  0.313443\n",
       "1  0.479966  0.230367  0.110569  0.053069  0.025471  0.012225\n",
       "2  1.173468  1.377027  1.615897  1.896204  2.225135  2.611124\n",
       "3  0.909048  0.826368  0.751209  0.682885  0.620775  0.564314\n",
       "4 -0.571721  0.326865 -0.186876  0.106841 -0.061083  0.034923"
      ]
     },
     "execution_count": 3,
     "metadata": {},
     "output_type": "execute_result"
    }
   ],
   "source": [
    "X = pd.DataFrame(X)\n",
    "X2 = X*X\n",
    "X3 = X*X*X\n",
    "X4 = X2*X2\n",
    "X5 = X2*X3\n",
    "X6 = X3*X3\n",
    "\n",
    "X_1to6 = pd.concat([X, X2, X3, X4, X5, X6], axis=1)\n",
    "X_1to6.columns = [\"X\", \"X^2\", \"X^3\", \"X^4\", \"X^5\", \"X^6\"]\n",
    "X_1to6.head()"
   ]
  },
  {
   "cell_type": "markdown",
   "metadata": {},
   "source": [
    "### Using forward stepwise selection"
   ]
  },
  {
   "cell_type": "code",
   "execution_count": 4,
   "metadata": {},
   "outputs": [
    {
     "data": {
      "text/plain": [
       "{1: {'feature_idx': (2,),\n",
       "  'cv_scores': array([0.93488272]),\n",
       "  'avg_score': 0.9348827179222889,\n",
       "  'feature_names': ('X^3',)},\n",
       " 2: {'feature_idx': (1, 2),\n",
       "  'cv_scores': array([0.99037122]),\n",
       "  'avg_score': 0.9903712230101999,\n",
       "  'feature_names': ('X^2', 'X^3')},\n",
       " 3: {'feature_idx': (0, 1, 2),\n",
       "  'cv_scores': array([0.99999997]),\n",
       "  'avg_score': 0.9999999677441613,\n",
       "  'feature_names': ('X', 'X^2', 'X^3')},\n",
       " 4: {'feature_idx': (0, 1, 2, 4),\n",
       "  'cv_scores': array([0.99999997]),\n",
       "  'avg_score': 0.9999999681439081,\n",
       "  'feature_names': ('X', 'X^2', 'X^3', 'X^5')},\n",
       " 5: {'feature_idx': (0, 1, 2, 4, 5),\n",
       "  'cv_scores': array([0.99999997]),\n",
       "  'avg_score': 0.9999999682392479,\n",
       "  'feature_names': ('X', 'X^2', 'X^3', 'X^5', 'X^6')},\n",
       " 6: {'feature_idx': (0, 1, 2, 3, 4, 5),\n",
       "  'cv_scores': array([0.99999997]),\n",
       "  'avg_score': 0.9999999687670095,\n",
       "  'feature_names': ('X', 'X^2', 'X^3', 'X^4', 'X^5', 'X^6')}}"
      ]
     },
     "execution_count": 4,
     "metadata": {},
     "output_type": "execute_result"
    }
   ],
   "source": [
    "from mlxtend.feature_selection import SequentialFeatureSelector as SFS\n",
    "from sklearn.linear_model import LinearRegression\n",
    "\n",
    "lr_model = LinearRegression()\n",
    "# Set forward=True, we get Step Forward Selection\n",
    "sfs = SFS(lr_model, \n",
    "           k_features=6, \n",
    "           forward=True, \n",
    "           floating=False, \n",
    "           scoring='r2',\n",
    "           cv=0,\n",
    "           n_jobs=-1).fit(X_1to6, y)\n",
    "\n",
    "\n",
    "sfs.subsets_"
   ]
  },
  {
   "cell_type": "markdown",
   "metadata": {},
   "source": [
    "### Using backwards stepwise selection"
   ]
  },
  {
   "cell_type": "code",
   "execution_count": 5,
   "metadata": {
    "scrolled": true
   },
   "outputs": [
    {
     "data": {
      "text/plain": [
       "{6: {'feature_idx': (0, 1, 2, 3, 4, 5),\n",
       "  'cv_scores': array([0.99999997]),\n",
       "  'avg_score': 0.9999999687670095,\n",
       "  'feature_names': ('0', '1', '2', '3', '4', '5')},\n",
       " 5: {'feature_idx': (0, 1, 2, 3, 5),\n",
       "  'cv_scores': array([0.99999997]),\n",
       "  'avg_score': 0.9999999685256091,\n",
       "  'feature_names': ('0', '1', '2', '3', '5')},\n",
       " 4: {'feature_idx': (0, 1, 2, 5),\n",
       "  'cv_scores': array([0.99999997]),\n",
       "  'avg_score': 0.9999999679419835,\n",
       "  'feature_names': ('0', '1', '2', '5')},\n",
       " 3: {'feature_idx': (0, 1, 2),\n",
       "  'cv_scores': array([0.99999997]),\n",
       "  'avg_score': 0.9999999677441613,\n",
       "  'feature_names': ('0', '1', '2')},\n",
       " 2: {'feature_idx': (1, 2),\n",
       "  'cv_scores': array([0.99037122]),\n",
       "  'avg_score': 0.9903712230101999,\n",
       "  'feature_names': ('1', '2')},\n",
       " 1: {'feature_idx': (2,),\n",
       "  'cv_scores': array([0.93488272]),\n",
       "  'avg_score': 0.9348827179222889,\n",
       "  'feature_names': ('2',)}}"
      ]
     },
     "execution_count": 5,
     "metadata": {},
     "output_type": "execute_result"
    }
   ],
   "source": [
    "# Set forward=False, we get Step Backward Selection\n",
    "lr_model2 = LinearRegression()\n",
    "sbs = SFS(lr_model2, \n",
    "           k_features=1, \n",
    "           forward=False, \n",
    "           floating=False, \n",
    "           scoring='r2',\n",
    "           cv=0,\n",
    "           n_jobs=-1).fit(X_1to6.values, y)\n",
    "\n",
    "sbs.subsets_"
   ]
  },
  {
   "cell_type": "markdown",
   "metadata": {},
   "source": [
    "<font size=2.5 color=\"red\">\n",
    "On the one hand, we find feature (2,), (1, 2), (0, 1, 2), (0, 1, 2, 4), (0, 1, 2, 4, 5) and (0, 1, 2, 3, 4, 5) using forward stepwise selection.\n",
    "    <br><br>On the other hand, we find feature (0, 1, 2, 3, 4, 5), (0, 1, 2, 3, 5)，(0, 1, 2, 5), (0, 1, 2), (1, 2) and (2,) using backward stepwise selection.\n",
    "    <br><br>As we can see from the results, the subsets are different when k equals to 4 and 5 (we select 4 or 5 features as the subset). We have the same 6 features since we only have 6 features in our dataset. But when k equals to 1, 2, 3, the two methods give the same result.\n",
    "</font>"
   ]
  },
  {
   "cell_type": "markdown",
   "metadata": {},
   "source": [
    "(c) Now fit a lasso model to the simulated data, again using X, X2, ... X6 as predictors. Use cross-validation to select the optimal value of λ. Create plots of the cross-validation error as a function of λ. Report the resulting coefficient estimates and discuss the results obtained."
   ]
  },
  {
   "cell_type": "code",
   "execution_count": 6,
   "metadata": {},
   "outputs": [],
   "source": [
    "from sklearn.linear_model import Lasso\n",
    "from sklearn.model_selection import cross_val_score"
   ]
  },
  {
   "cell_type": "code",
   "execution_count": 7,
   "metadata": {},
   "outputs": [],
   "source": [
    "λ_list = list(np.arange(1e-06, 3, 1e-03))"
   ]
  },
  {
   "cell_type": "code",
   "execution_count": 8,
   "metadata": {},
   "outputs": [
    {
     "name": "stdout",
     "output_type": "stream",
     "text": [
      "Wall time: 1min 15s\n"
     ]
    }
   ],
   "source": [
    "%%time\n",
    "\n",
    "best_score = 0\n",
    "best_λ = 0\n",
    "cv_scores = []\n",
    "for λ in λ_list:    \n",
    "    lasso_model = Lasso(alpha=λ, max_iter = 100000)\n",
    "    cv_score = cross_val_score(lasso_model,X_1to6, y, cv=5).mean()\n",
    "    cv_scores.append(cv_score)\n",
    "    if best_score < cv_score:\n",
    "        best_score = cv_score\n",
    "        best_λ = λ"
   ]
  },
  {
   "cell_type": "code",
   "execution_count": 9,
   "metadata": {},
   "outputs": [
    {
     "data": {
      "text/plain": [
       "Text(0, 0.5, 'cross validation score')"
      ]
     },
     "execution_count": 9,
     "metadata": {},
     "output_type": "execute_result"
    },
    {
     "data": {
      "image/png": "[encoded data removed]",
      "text/plain": [
       "<Figure size 432x288 with 1 Axes>"
      ]
     },
     "metadata": {
      "needs_background": "light"
     },
     "output_type": "display_data"
    }
   ],
   "source": [
    "%matplotlib inline\n",
    "\n",
    "plt.plot(λ_list, cv_scores)\n",
    "plt.xlabel(\"λ\")\n",
    "plt.ylabel(\"cross validation score\")"
   ]
  },
  {
   "cell_type": "code",
   "execution_count": 10,
   "metadata": {
    "scrolled": true
   },
   "outputs": [
    {
     "name": "stdout",
     "output_type": "stream",
     "text": [
      "we test 3000 λ in total.\n",
      "best cv score is  0.9999667230827649\n",
      "current λ is  0.014001\n"
     ]
    }
   ],
   "source": [
    "print(\"we test {} λ in total.\".format(len(λ_list)))\n",
    "print(\"best cv score is \", best_score)\n",
    "print(\"current λ is \", best_λ)"
   ]
  },
  {
   "cell_type": "code",
   "execution_count": 11,
   "metadata": {
    "scrolled": true
   },
   "outputs": [
    {
     "name": "stdout",
     "output_type": "stream",
     "text": [
      "This is the intercept, AKA ß0:  19.901520821071063\n",
      "This is the coefficients:  [ 2.11102342e+01  2.24679721e+01  2.29006684e+01 -2.27382154e-01\n",
      "  4.54017458e-03  1.72669876e-02]\n"
     ]
    }
   ],
   "source": [
    "best_lasso_model = Lasso(alpha=best_λ).fit(X_1to6, y)\n",
    "print(\"This is the intercept, AKA ß0: \", best_lasso_model.intercept_)\n",
    "print(\"This is the coefficients: \", best_lasso_model.coef_)\n"
   ]
  },
  {
   "cell_type": "markdown",
   "metadata": {},
   "source": [
    "<font size=2.5 color=\"red\">\n",
    "    The resulting coefficient estimates are ß0 =  19.90, ß1 = 21.11, ß2 = 22.47, ß3 = 22.90, ß4 = -0.23, ß5 = 0.0045, ß6 = 0.017.\n",
    "    The ß0, ß1, ß2, ß3 are very close to my simulation setting. If we round the results to integers, they are exactly the same coefficients as my presetting. And the ß4, ß5 and ß6 are fairly small numbers compared to the ß0, ß1, ß2, ß3.\n",
    "    \n",
    "</font>"
   ]
  },
  {
   "cell_type": "markdown",
   "metadata": {},
   "source": [
    "### Question 3\n",
    "#### Read slides 20-32 and summarize them and add the summary at the end of assignment 4.\n",
    "\n",
    "<font size=2.5 color=\"red\">\n",
    "    We need approaches to estimate test error in order to choose the optimal model, because RSS and $R^2$ are only related to the training error. We can either directly estimate the test error (using a validation set approach or cross-validation approach) or indirectly estimate the test eorror by making an adjustment to the training error to account for the bias due to overfitting.\n",
    "    <br><br>Directly estimate: We can compute the validation set error or cross-validation error for each model under consideration, and then select the model for which the resulting estimated test error is smallest.\n",
    "    <br><br>Indirectly estimate: We can also use $C_p$, AIC, BIC and Adjusted $R^2$. The $C_p$ statistic adds a penalty to the training RSS to adjust for the fact that the training error tends to underestimate the test error. The AIC criterion is defined for a large class of models fit by maximum likelihood. And the BIC criterion is derived from a Bayesian point of view, but ends up looking similar to $C_p$ and AIC as well. Moreover, the adjusted $R^2$ statistic pays a price for the inclusion of unnecessary variables in the model. As a consequence, we choose <b>lower</b> $C_p$ statistic, AIC, BIC values and <b>bigger</b> adjusted $R^2$ value. \n",
    "    \n",
    "    \n",
    "</font>"
   ]
  }
 ],
 "metadata": {
  "kernelspec": {
   "display_name": "Python 3",
   "language": "python",
   "name": "python3"
  },
  "language_info": {
   "codemirror_mode": {
    "name": "ipython",
    "version": 3
   },
   "file_extension": ".py",
   "mimetype": "text/x-python",
   "name": "python",
   "nbconvert_exporter": "python",
   "pygments_lexer": "ipython3",
   "version": "3.7.0"
  }
 },
 "nbformat": 4,
 "nbformat_minor": 2
}
