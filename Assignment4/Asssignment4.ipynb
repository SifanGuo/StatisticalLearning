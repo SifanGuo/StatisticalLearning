{
 "cells": [
  {
   "cell_type": "markdown",
   "metadata": {
    "collapsed": true
   },
   "source": [
    "# Assignment 4\n",
    "### Question 2\n",
    "In this exercise, we will generate simulated data, then use this data to perform forward feature selection, backward feature selection and lasso.\n",
    "\n",
    "(a) Generate a predictor X of length n = 100, as well as a noise vector ϵ of length n = 100 from a\n",
    "random normal distribution. Then generate a response vector Y of length n = 100 according to the\n",
    "model Y = β0 + β1X + β2X2 + β3X3 + ϵ, where β0, β1, β2, and β3 are constants of your choice. Hint:\n",
    "Look back at Assignment 1."
   ]
  },
  {
   "cell_type": "code",
   "execution_count": 1,
   "metadata": {},
   "outputs": [],
   "source": [
    "import pandas as pd\n",
    "import numpy as np\n",
    "import matplotlib.pyplot as plt"
   ]
  },
  {
   "cell_type": "code",
   "execution_count": 2,
   "metadata": {},
   "outputs": [],
   "source": [
    "np.random.seed(seed=21)\n",
    "numSamples = 100\n",
    "X = np.random.randn(numSamples, 1)\n",
    "eps = 0.5 * np.random.randn(numSamples, 1)\n",
    "\n",
    "y = 666 + 6*X + 163*X*X + 126*X*X*X + eps"
   ]
  },
  {
   "cell_type": "code",
   "execution_count": 3,
   "metadata": {},
   "outputs": [],
   "source": [
    "X = pd.DataFrame(X)\n",
    "X2 = X*X\n",
    "X3 = X*X*X\n",
    "X4 = X2*X2\n",
    "X5 = X2*X3\n",
    "X6 = X3*X3\n"
   ]
  },
  {
   "cell_type": "code",
   "execution_count": 4,
   "metadata": {
    "scrolled": true
   },
   "outputs": [
    {
     "data": {
      "text/html": [
       "<div>\n",
       "<style scoped>\n",
       "    .dataframe tbody tr th:only-of-type {\n",
       "        vertical-align: middle;\n",
       "    }\n",
       "\n",
       "    .dataframe tbody tr th {\n",
       "        vertical-align: top;\n",
       "    }\n",
       "\n",
       "    .dataframe thead th {\n",
       "        text-align: right;\n",
       "    }\n",
       "</style>\n",
       "<table border=\"1\" class=\"dataframe\">\n",
       "  <thead>\n",
       "    <tr style=\"text-align: right;\">\n",
       "      <th></th>\n",
       "      <th>X</th>\n",
       "      <th>X^2</th>\n",
       "      <th>X^3</th>\n",
       "      <th>X^4</th>\n",
       "      <th>X^5</th>\n",
       "      <th>X^6</th>\n",
       "    </tr>\n",
       "  </thead>\n",
       "  <tbody>\n",
       "    <tr>\n",
       "      <th>0</th>\n",
       "      <td>-0.051964</td>\n",
       "      <td>0.002700</td>\n",
       "      <td>-0.000140</td>\n",
       "      <td>0.000007</td>\n",
       "      <td>-3.788989e-07</td>\n",
       "      <td>1.968919e-08</td>\n",
       "    </tr>\n",
       "    <tr>\n",
       "      <th>1</th>\n",
       "      <td>-0.111196</td>\n",
       "      <td>0.012365</td>\n",
       "      <td>-0.001375</td>\n",
       "      <td>0.000153</td>\n",
       "      <td>-1.699992e-05</td>\n",
       "      <td>1.890324e-06</td>\n",
       "    </tr>\n",
       "    <tr>\n",
       "      <th>2</th>\n",
       "      <td>1.041797</td>\n",
       "      <td>1.085341</td>\n",
       "      <td>1.130704</td>\n",
       "      <td>1.177964</td>\n",
       "      <td>1.227199e+00</td>\n",
       "      <td>1.278492e+00</td>\n",
       "    </tr>\n",
       "    <tr>\n",
       "      <th>3</th>\n",
       "      <td>-1.256739</td>\n",
       "      <td>1.579394</td>\n",
       "      <td>-1.984886</td>\n",
       "      <td>2.494484</td>\n",
       "      <td>-3.134916e+00</td>\n",
       "      <td>3.939773e+00</td>\n",
       "    </tr>\n",
       "    <tr>\n",
       "      <th>4</th>\n",
       "      <td>0.745388</td>\n",
       "      <td>0.555603</td>\n",
       "      <td>0.414139</td>\n",
       "      <td>0.308694</td>\n",
       "      <td>2.300971e-01</td>\n",
       "      <td>1.715115e-01</td>\n",
       "    </tr>\n",
       "  </tbody>\n",
       "</table>\n",
       "</div>"
      ],
      "text/plain": [
       "          X       X^2       X^3       X^4           X^5           X^6\n",
       "0 -0.051964  0.002700 -0.000140  0.000007 -3.788989e-07  1.968919e-08\n",
       "1 -0.111196  0.012365 -0.001375  0.000153 -1.699992e-05  1.890324e-06\n",
       "2  1.041797  1.085341  1.130704  1.177964  1.227199e+00  1.278492e+00\n",
       "3 -1.256739  1.579394 -1.984886  2.494484 -3.134916e+00  3.939773e+00\n",
       "4  0.745388  0.555603  0.414139  0.308694  2.300971e-01  1.715115e-01"
      ]
     },
     "execution_count": 4,
     "metadata": {},
     "output_type": "execute_result"
    }
   ],
   "source": [
    "X_1to6 = pd.concat([X, X2, X3, X4, X5, X6], axis=1)\n",
    "X_1to6.columns = [\"X\", \"X^2\", \"X^3\", \"X^4\", \"X^5\", \"X^6\"]\n",
    "X_1to6.head()"
   ]
  },
  {
   "cell_type": "code",
   "execution_count": null,
   "metadata": {},
   "outputs": [],
   "source": []
  },
  {
   "cell_type": "code",
   "execution_count": null,
   "metadata": {},
   "outputs": [],
   "source": []
  },
  {
   "cell_type": "code",
   "execution_count": null,
   "metadata": {},
   "outputs": [],
   "source": []
  }
 ],
 "metadata": {
  "kernelspec": {
   "display_name": "Python 3",
   "language": "python",
   "name": "python3"
  },
  "language_info": {
   "codemirror_mode": {
    "name": "ipython",
    "version": 3
   },
   "file_extension": ".py",
   "mimetype": "text/x-python",
   "name": "python",
   "nbconvert_exporter": "python",
   "pygments_lexer": "ipython3",
   "version": "3.7.0"
  }
 },
 "nbformat": 4,
 "nbformat_minor": 2
}
